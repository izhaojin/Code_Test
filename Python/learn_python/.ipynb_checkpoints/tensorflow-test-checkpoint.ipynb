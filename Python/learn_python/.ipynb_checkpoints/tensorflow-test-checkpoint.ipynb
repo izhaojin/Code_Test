{
 "cells": [
  {
   "cell_type": "code",
   "execution_count": 1,
   "metadata": {},
   "outputs": [],
   "source": [
    "import numba as nb\n",
    "import numpy as np\n",
    "import matplotlib.pyplot as plt"
   ]
  },
  {
   "cell_type": "code",
   "execution_count": 3,
   "metadata": {},
   "outputs": [],
   "source": [
    "@nb.vectorize\n",
    "def triangle_wave(A:float,T:float,x:float)->float:\n",
    "    if x<0:\n",
    "        return -triangle_wave(-x)\n",
    "    x = x%T\n",
    "    if x<T/2:\n",
    "        return x*(2*A/T)\n",
    "    elif x<T/2*3:\n",
    "        return -(x-T)*(2*A/T)\n",
    "    else:\n",
    "        return x*(2*A/T)"
   ]
  },
  {
   "cell_type": "code",
   "execution_count": null,
   "metadata": {},
   "outputs": [],
   "source": [
    "xv = np.arange(-10,10,0.1)\n",
    "yv = triangle_wave()"
   ]
  }
 ],
 "metadata": {
  "interpreter": {
   "hash": "73e03da126b73bfff3642ec5261d56fa25c444ea595de51041687efaa60dda41"
  },
  "kernelspec": {
   "display_name": "Python 3.9.7 ('base')",
   "language": "python",
   "name": "python3"
  },
  "language_info": {
   "codemirror_mode": {
    "name": "ipython",
    "version": 3
   },
   "file_extension": ".py",
   "mimetype": "text/x-python",
   "name": "python",
   "nbconvert_exporter": "python",
   "pygments_lexer": "ipython3",
   "version": "3.9.7"
  },
  "orig_nbformat": 4
 },
 "nbformat": 4,
 "nbformat_minor": 2
}
